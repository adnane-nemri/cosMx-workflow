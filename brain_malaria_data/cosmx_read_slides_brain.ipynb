{
 "cells": [
  {
   "cell_type": "markdown",
   "id": "4604ccbc-b806-43ca-825a-c8bd32cb41d1",
   "metadata": {},
   "source": [
    "## Scope\n",
    "Read, inspect, annotate output of AtoMx software for 1 or more CosMx slides.  \n",
    "Aim: visualise FOVs, visualise cells, QC experiment, identify wich FOVs belong to which sample. Used to generate 'FOV_mapping.tsv'\n",
    "\n",
    "#Inputs:\n",
    "One or more folders \"Exp1\", \"Exp2\".. each containing 3 .csv outputs\n",
    "- counts_file : ExpN/ExpN_exprMat_file.csv\n",
    "- meta_file : ExpN/ExpN_metadata_file.csv\n",
    "- fov_file : ExpN/ExpN_fov_positions_file.csv\n",
    "\n",
    "- \"slide_mapping.tsv\" file  \n",
    "containing the mapping of the different slides \"Experiment1\", \"Experiment2\"... i.e. the info of which samples are on which slide. For example: \n",
    "name\tfolder\ttime_point\tindividual\ttissue\tdataset\n",
    "projX_1\tExperiment1\tTP1\ti2\tspleen\tcosmX\n",
    "projX_2\tExperiment2\tTP2\ti1\tspleen\tcosmX\n",
    "Note: rename as e.g. \"projX_1\" as \"Experiment1\" may be a very long string and/or not unique\n",
    "Batch-level information, such as time point, individual, tissue, dataset.. info are used to annotate the AnnData for later integration\n",
    "\n",
    "- \"IF_images/ExpN_IF.jpg\" (optional)  \n",
    "This is the immuno-fluorescence picture of the tissue. It will be used as background during plotting of FOVs. The image should have the same (0,0) coordinates as the FOVs.  \n",
    "\n",
    "#Outputs:  \n",
    "The mapping file 'FOV_mapping.tsv' will be generated during the workflow. It contains the info of which FOV belongs to which sample on the slide  \n",
    "name\tfolder\tid\tFOV_idx\ttime_point\tmouse\ttissue\tdataset  \n",
    "projX_1\tThomasOttoMouseSlide1060324\t1\t1\tTP_2\tm1\tspleen\tcosmX  \n",
    "projX_1\tThomasOttoMouseSlide1060324\t1\t2\tTP_2\tm1\tspleen\tcosmX  \n",
    "\n",
    "\n",
    "## Instructions  \n",
    "Run the jupyter notebook inside the environment (see dependencies to create and activate).  \n",
    "The importer script if modified from Squidpy. This is a quick and dirty fix that changed 2 files inside the package to \"add\" a function \"sq.read.nanostring_mod\" to the read library and reference it in __init__.py. Copy those 2 files in ~/miniforge3/envs/YOURENV/lib/python3.10/site-packages/squidpy/read\n",
    "\n"
   ]
  },
  {
   "cell_type": "code",
   "execution_count": 2,
   "id": "f68e8fcd-0de9-4737-8d20-9d2ed18ad75f",
   "metadata": {},
   "outputs": [
    {
     "name": "stderr",
     "output_type": "stream",
     "text": [
      "/home/adnane/miniforge3/envs/scrnaseq3.10/lib/python3.10/site-packages/dask/dataframe/_pyarrow_compat.py:17: FutureWarning: Minimal version of pyarrow will soon be increased to 14.0.1. You are using 13.0.0. Please consider upgrading.\n",
      "  warnings.warn(\n"
     ]
    }
   ],
   "source": [
    "import numpy as np\n",
    "import matplotlib.pyplot as plt\n",
    "import seaborn as sns\n",
    "import scanpy as sc\n",
    "import pandas as pd\n",
    "import os\n",
    "\n",
    "import squidpy as sq\n",
    "\n",
    "import warnings\n",
    "warnings.filterwarnings('ignore')"
   ]
  },
  {
   "cell_type": "code",
   "execution_count": 3,
   "id": "7ea3899b-ad8b-45ba-b78a-d9ad38501d4b",
   "metadata": {},
   "outputs": [],
   "source": [
    "def read_cosmx(folder, sample, slide):\n",
    "    # this is a modified version of the importer script\n",
    "    # it uses an ad hoc script added to squidpy (quick and dirty) to be able to call it as part of the package\n",
    "    # cp __init__.py ~/miniforge3/envs/scrnaseq3.10/lib/python3.10/site-packages/squidpy/read\n",
    "    # cp _read_mod.py ~/miniforge3/envs/scrnaseq3.10/lib/python3.10/site-packages/squidpy/read\n",
    "    return sq.read.nanostring_mod(\n",
    "        path =  f\"{folder}/{sample}/\",\n",
    "        slide = slide, \n",
    "        counts_file = sample + \"_exprMat_file.csv\",\n",
    "        meta_file = sample + \"_metadata_file.csv\",\n",
    "        fov_file = sample + \"_fov_positions_file.csv\",\n",
    "        )"
   ]
  },
  {
   "cell_type": "code",
   "execution_count": 18,
   "id": "935af16e-8fcd-4e04-8361-4257c09f7007",
   "metadata": {},
   "outputs": [],
   "source": [
    "def plot_fovs_to_slide(pos_file, img_file):\n",
    "    \n",
    "    coords = pd.read_csv(pos_file)\n",
    "    fov_key=\"fov\" #\"FOV\"\n",
    "    xkey = \"x_global_mm\" # \"Y_mm\"\n",
    "    ykey = \"y_global_mm\"  # \"X_mm\"\n",
    "\n",
    "    coords[fov_key] = coords[fov_key].astype(str)\n",
    "    coords[\"in_metaexpr\"] = (coords[fov_key].str.replace(\"^\",slide + \"_\", regex=True).isin(adata.uns[\"spatial\"]))\n",
    "    ffovs, totfovs = sum(coords[\"in_metaexpr\"]), len(coords[\"in_metaexpr\"])\n",
    "    print(f\"Found {ffovs} FOVs in metadata out of {totfovs} FOVs in positions file\")\n",
    "    \n",
    "    col = np.where(coords[\"in_metaexpr\"], \"cyan\" , \"red\" )\n",
    "\n",
    "    figure, ax = plt.subplots()\n",
    "    ax.scatter(coords[xkey], coords[ykey] , s=30, alpha=0.36, marker=\"s\", c=col)\n",
    "    for idx, row in coords.iterrows():\n",
    "            ax.annotate(row[fov_key], (row[xkey], row[ykey]) , \n",
    "                        textcoords=\"offset points\", xytext=(-1,-1), \n",
    "                        fontsize=3, fontweight=\"bold\", fontfamily=\"sans-serif\", color=\"white\" )\n",
    "    \n",
    "    xmin, xmax = ax.get_xlim()\n",
    "    ymin, ymax = ax.get_ylim()\n",
    "    print(xmin, xmax, ymin, ymax)\n",
    "    #plt.imshow(plt.imread(img_file),zorder=0, extent=[xmin, xmax, ymin, ymax])  \n",
    "    img_out= f\"{sample_dir}IF_images/{slide}_fov_positions.from.csv.png\"\n",
    "    figure.savefig(img_out, format=\"png\", dpi=900)"
   ]
  },
  {
   "cell_type": "markdown",
   "id": "beb80658-aa33-4c06-a7fd-316b4f2990c9",
   "metadata": {},
   "source": [
    "## Start workflow here"
   ]
  },
  {
   "cell_type": "code",
   "execution_count": 5,
   "id": "9fa9d6a4-8502-4fe2-8802-c2acc199fb00",
   "metadata": {},
   "outputs": [
    {
     "name": "stdout",
     "output_type": "stream",
     "text": [
      "['Brain1']\n"
     ]
    }
   ],
   "source": [
    "sample_dir = \"/mnt/share/Projects/Proj_AN3_Brain/\"\n",
    "mapping_f = \"FOV_mapping_brain_v1.tsv\"\n",
    "mapping_s = \"slide_mapping_brain.tsv\"\n",
    "\n",
    "conditions = pd.read_csv(sample_dir + mapping_s, header=0, sep=\"\\t\")\n",
    "slide_list = conditions[\"name\"].unique()\n",
    "print(slide_list)\n",
    "iter_slides = iter(slide_list)\n",
    "pm = {}"
   ]
  },
  {
   "cell_type": "markdown",
   "id": "688f6f91-c0c8-42c9-8a50-ae203c898c21",
   "metadata": {},
   "source": [
    "## Looping across the slides - ITERATE FROM HERE"
   ]
  },
  {
   "cell_type": "code",
   "execution_count": 7,
   "id": "5b1f3231-21e3-43ae-9be3-f8c0c6b34ce0",
   "metadata": {},
   "outputs": [
    {
     "name": "stdout",
     "output_type": "stream",
     "text": [
      "Processing slide  Brain1\n"
     ]
    }
   ],
   "source": [
    "slide = next(iter_slides)\n",
    "\n",
    "folders = conditions[conditions[\"name\"] == slide][\"folder\"].unique()\n",
    "if len(folders) == 1 :\n",
    "    slide_orig = folders[0]\n",
    "else :\n",
    "    print(\"Too many or too few working directories were parsed\") \n",
    "\n",
    "print(\"Processing slide \", slide) \n",
    "\n",
    "pos_file = f\"{sample_dir}{slide_orig}/{slide_orig}_fov_positions_file.csv\"\n",
    "img_file = f\"{sample_dir}IF_images/{slide}_IF.jpg\""
   ]
  },
  {
   "cell_type": "code",
   "execution_count": 20,
   "id": "854e6308-481b-4861-b250-fff99e0fe7f7",
   "metadata": {},
   "outputs": [
    {
     "name": "stdout",
     "output_type": "stream",
     "text": [
      "Step 1. Reading metadata file\n",
      "Step 2. Reading counts file\n",
      "Step 3. Generating counts sparse matrix with correct columns\n",
      "\tCommon index length :  221011\n",
      "Step 4. Generating AnnData\n",
      "Step 5. Reading image directories if existing\n",
      "\tNo  CellComposite image directory in output. Skipping.\n",
      "\tNo  CellLabels image directory in output. Skipping.\n",
      "Step 6. Reading fov file\n",
      "AnnData object with n_obs × n_vars = 221011 × 6519\n",
      "    obs: 'fov', 'Area', 'AspectRatio', 'Width', 'Height', 'Mean.Histone', 'Max.Histone', 'Mean.G', 'Max.G', 'Mean.rRNA', 'Max.rRNA', 'Mean.GFAP', 'Max.GFAP', 'Mean.DAPI', 'Max.DAPI', 'SplitRatioToLocal', 'NucArea', 'NucAspectRatio', 'Circularity', 'Eccentricity', 'Perimeter', 'Solidity', 'cell_id', 'assay_type', 'version', 'Run_Tissue_name', 'Panel', 'cellSegmentationSetId', 'cellSegmentationSetName', 'slide_ID', 'CenterX_global_px', 'CenterY_global_px', 'cell_ID', 'unassignedTranscripts', 'median_RNA', 'RNA_quantile_0.75', 'RNA_quantile_0.8', 'RNA_quantile_0.85', 'RNA_quantile_0.9', 'RNA_quantile_0.95', 'RNA_quantile_0.99', 'nCount_RNA', 'nFeature_RNA', 'median_negprobes', 'negprobes_quantile_0.75', 'negprobes_quantile_0.8', 'negprobes_quantile_0.85', 'negprobes_quantile_0.9', 'negprobes_quantile_0.95', 'negprobes_quantile_0.99', 'nCount_negprobes', 'nFeature_negprobes', 'median_falsecode', 'falsecode_quantile_0.75', 'falsecode_quantile_0.8', 'falsecode_quantile_0.85', 'falsecode_quantile_0.9', 'falsecode_quantile_0.95', 'falsecode_quantile_0.99', 'nCount_falsecode', 'nFeature_falsecode', 'Area.um2', 'cell'\n",
      "    uns: 'spatial'\n",
      "    obsm: 'spatial', 'spatial_fov'\n",
      "Found 508 FOVs in metadata out of 508 FOVs in positions file\n",
      "-0.43506420710000004 9.1363483491 -1.0011323600000002 21.02377956\n"
     ]
    },
    {
     "data": {
      "image/png": "[encoded data removed]",
      "text/plain": [
       "<Figure size 640x480 with 1 Axes>"
      ]
     },
     "metadata": {},
     "output_type": "display_data"
    }
   ],
   "source": [
    "## Reading slide files\n",
    "# and finding which FOVs are on which tissue\n",
    "adata = read_cosmx(sample_dir, slide_orig, slide)\n",
    "print(adata)\n",
    "\n",
    "# check positions of fovs on the slide to select appropriately which fovs correspond to which sample\n",
    "# this a partly to fix a bug of AtoMx export that reindexes and shuffles fovs numbers irrespective of the numbers\n",
    "# selected by the user\n",
    "# in red are FOVs that exist in positions file but have no counts or metadata, due to failing QC in AtoMx \n",
    "# and being discarded\n",
    "# the background image needs to be in the same coordinate system (same 0 and max for x and y) as the fov positions, i.e. not cropped, but expanded is OK\n",
    "plot_fovs_to_slide(pos_file, img_file)\n",
    "\n",
    "# The resulting mapping file is then created manually from what is shown on the picture"
   ]
  },
  {
   "cell_type": "code",
   "execution_count": 24,
   "id": "f300ce30",
   "metadata": {},
   "outputs": [],
   "source": [
    "in_hd5f = slide_orig + \"_raw.hdf5\"\n",
    "os.makedirs(f\"{sample_dir}{slide}\", exist_ok = True)\n",
    "adata.write(filename= f\"{sample_dir}{slide}/{in_hd5f}\")"
   ]
  },
  {
   "cell_type": "markdown",
   "id": "3f1b0469-9b67-43fb-933c-095be57fb994",
   "metadata": {},
   "source": [
    "## next section not required  \n",
    "as one can now switch to Seurat import of .rds file to annotate FOVs using the mapping file, split/subset the object based on batch-level infos etc.."
   ]
  },
  {
   "cell_type": "code",
   "execution_count": null,
   "id": "6613120d-a92d-44b5-9df8-1201120374b0",
   "metadata": {},
   "outputs": [],
   "source": [
    "def annotate_fovs(mapping_file, adata, slide, slide_orig):\n",
    "    \n",
    "    adata.obs[\"slide_name\"] = slide \n",
    "    \n",
    "    mapping = pd.read_csv(mapping_file, header=0, sep=\"\\t\")\n",
    "    fltr_mapping = mapping[ (mapping[\"name\"] == slide) & (mapping[\"folder\"] == slide_orig ) ]\n",
    "      \n",
    "    for idx, row in fltr_mapping.iterrows():\n",
    "        up_list = [\"sample\" , \"time_point\", \"mouse\", \"tissue\", \"dataset\" ]\n",
    "        in_list = [ row[\"folder\"], row[\"time_point\"], row[\"mouse\"], row[\"tissue\"], row[\"dataset\"] ]\n",
    "        adata.obs.loc[ adata.obs[\"fov\"] == str(row[\"FOV_idx\"]) , up_list ] = in_list\n",
    "        \n",
    "    return adata"
   ]
  },
  {
   "cell_type": "code",
   "execution_count": null,
   "id": "c045a1d5-fa0c-4da9-b3b2-5d7ee86587c2",
   "metadata": {},
   "outputs": [],
   "source": [
    "def split_anndata(slides_meta_file, adata, slide, slide_orig):\n",
    "    \n",
    "    conditions = pd.read_csv(slides_meta_file, header=0, sep=\"\\t\")\n",
    "    fltr_conditions = conditions[ (conditions[\"name\"] == slide) & (conditions[\"folder\"] == slide_orig ) ]\n",
    "    \n",
    "    for idx, row in fltr_conditions.iterrows():\n",
    "        tgt_tp , tgt_tis, tgt_mo = row[\"time_point\"], row[\"tissue\"], row[\"mouse\"]      \n",
    "        \n",
    "        name = \"_\".join([tgt_tp ,tgt_mo, tgt_tis])\n",
    "        tgt_file = f\"{sample_dir}{slide}/{name}_raw.hdf5\"\n",
    "        print(f\"=========================\\tWriting {name} to {tgt_file}\")\n",
    "        \n",
    "        subdata = adata[ (adata.obs[\"time_point\"] == tgt_tp) &\n",
    "            (adata.obs[\"tissue\"] == tgt_tis) &\n",
    "            (adata.obs[\"mouse\"] == tgt_mo) ]\n",
    "                        \n",
    "        print(subdata)              \n",
    "        subdata.write(filename= tgt_file)"
   ]
  },
  {
   "cell_type": "code",
   "execution_count": null,
   "id": "ef64b336-3dc7-41b7-afa3-09064c70e1b1",
   "metadata": {},
   "outputs": [],
   "source": [
    "# use picture from previous cell to generate FOV_mapping.tsv file by hand\n",
    "annotate_fovs(sample_dir + mapping_f, adata , slide, slide_orig)\n",
    "print(adata.obs)\n",
    "\n",
    "# Subsetting dataframe by FOV\n",
    "os.makedirs(f\"{sample_dir}{slide}\", exist_ok = True)\n",
    "split_anndata(sample_dir + mapping_s, adata , slide, slide_orig)"
   ]
  }
 ],
 "metadata": {
  "kernelspec": {
   "display_name": "scrnaseq3.10",
   "language": "python",
   "name": "python3"
  },
  "language_info": {
   "codemirror_mode": {
    "name": "ipython",
    "version": 3
   },
   "file_extension": ".py",
   "mimetype": "text/x-python",
   "name": "python",
   "nbconvert_exporter": "python",
   "pygments_lexer": "ipython3",
   "version": "3.10.0"
  }
 },
 "nbformat": 4,
 "nbformat_minor": 5
}
