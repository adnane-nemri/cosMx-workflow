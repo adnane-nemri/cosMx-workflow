{
 "cells": [
  {
   "cell_type": "markdown",
   "id": "4604ccbc-b806-43ca-825a-c8bd32cb41d1",
   "metadata": {},
   "source": [
    "## Scope\n",
    "Starting point: output of AtoMx software in 1 or more folders, flat files (.csv)Read, inspect, annotate and output of AtoMx software.\n",
    "\n",
    "Requisites:\n",
    "One or more folders \"Exp1\", \"Exp2\".. each containing 3 .csv outputs\n",
    "- counts_file : ExpN_exprMat_file.csv\n",
    "- meta_file : ExpN_metadata_file.csv\n",
    "- fov_file : ExpN_fov_positions_file.csv\n",
    "\n",
    "A \"slide_mapping.tsv\" file containing the mapping of the different slides \"Exp1\", \"Exp2\"...\n",
    "i.e. the info of with samples are on which slide. For example: \n",
    "name\tfolder\ttime_point\tindividual\ttissue\tdataset\n",
    "projX_1\tExp1\tTP1\ti2\tspleen\tcosmX\n",
    "projX_1\tExp1\tTP2\ti1\tspleen\tcosmX\n",
    "Note: rename as \"Exp1\" may be a very long string and/or not unique\n",
    "time point, individual, tissue, dataset info are used to annotate the AnnData for later integration\n",
    "\n",
    "A mapping file : FOV_mapping_corrected.tsv\n",
    "contains the info of which FOV belongs to which sample on the slide\n",
    "name\tfolder\tid\tFOV_idx\ttime_point\tmouse\ttissue\tdataset\n",
    "TOM1\tThomasOttoMouseSlide1060324\t1\t1\tTP_2\tm1\tspleen\tcosmX\n",
    "TOM1\tThomasOttoMouseSlide1060324\t1\t2\tTP_2\tm1\tspleen\tcosmX\n",
    "\n",
    "pos_file = {slide_orig}_fov_positions_file.csv\"\n",
    "\n",
    "Optional\n",
    "img_file : {slide}_IF.jpg\"\n",
    "\n",
    "## Instructions\n"
   ]
  },
  {
   "cell_type": "code",
   "execution_count": null,
   "id": "f68e8fcd-0de9-4737-8d20-9d2ed18ad75f",
   "metadata": {},
   "outputs": [],
   "source": [
    "import numpy as np\n",
    "import matplotlib.pyplot as plt\n",
    "import seaborn as sns\n",
    "import scanpy as sc\n",
    "import pandas as pd\n",
    "import os\n",
    "#import anndata as ad\n",
    "import squidpy as sq\n",
    "\n",
    "import warnings\n",
    "warnings.filterwarnings('ignore')"
   ]
  },
  {
   "cell_type": "code",
   "execution_count": null,
   "id": "7ea3899b-ad8b-45ba-b78a-d9ad38501d4b",
   "metadata": {},
   "outputs": [],
   "source": [
    "def read_cosmx(folder, sample, slide):\n",
    "    # this is a modified version of the importer script\n",
    "    return sq.read.nanostring_mod(\n",
    "        path =  f\"{folder}/{sample}/\",\n",
    "        slide = slide, \n",
    "        counts_file = sample + \"_exprMat_file.csv\",\n",
    "        meta_file = sample + \"_metadata_file.csv\",\n",
    "        fov_file = sample + \"_fov_positions_file.csv\",\n",
    "        )"
   ]
  },
  {
   "cell_type": "code",
   "execution_count": null,
   "id": "935af16e-8fcd-4e04-8361-4257c09f7007",
   "metadata": {},
   "outputs": [],
   "source": [
    "def plot_fovs_to_slide(pos_file, img_file):\n",
    "    \n",
    "    coords = pd.read_csv(pos_file)\n",
    "    coords[\"FOV\"] = coords[\"FOV\"].astype(str)\n",
    "    coords[\"in_metaexpr\"] = (coords[\"FOV\"].str.replace(\"^\",slide + \"_\", regex=True).isin(adata.uns[\"spatial\"]))\n",
    "    ffovs, totfovs = sum(coords[\"in_metaexpr\"]), len(coords[\"in_metaexpr\"])\n",
    "    print(f\"Found {ffovs} FOVs in metadata out of {totfovs} FOVs in positions file\")\n",
    "    coords  \n",
    "    \n",
    "    col = np.where(coords[\"in_metaexpr\"], \"cyan\" , \"red\" )\n",
    "    \n",
    "    figure, ax = plt.subplots()\n",
    "    ax.scatter(coords[\"X_mm\"], coords[\"Y_mm\"] , s=30, alpha=0.36, marker=\"s\", c=col)\n",
    "    for idx, row in coords.iterrows():\n",
    "            ax.annotate(row[\"FOV\"], (row[\"X_mm\"], row[\"Y_mm\"]) , \n",
    "                        textcoords=\"offset points\", xytext=(-1,-1), \n",
    "                        fontsize=3, fontweight=\"bold\", fontfamily=\"sans-serif\", color=\"white\" )\n",
    "    \n",
    "    xmin, xmax = ax.get_xlim()\n",
    "    ymin, ymax = ax.get_ylim()\n",
    "    print(xmin, xmax, ymin, ymax)\n",
    "    plt.imshow(plt.imread(img_file),zorder=0, extent=[xmin, xmax, ymin, ymax])  \n",
    "    img_out= f\"{sample_dir}IF_images/{slide}_fov_positions.from.csv.png\"\n",
    "    figure.savefig(img_out, format=\"png\", dpi=900)"
   ]
  },
  {
   "cell_type": "code",
   "execution_count": null,
   "id": "6613120d-a92d-44b5-9df8-1201120374b0",
   "metadata": {},
   "outputs": [],
   "source": [
    "def annotate_fovs(mapping_file, adata, slide, slide_orig):\n",
    "    \n",
    "    adata.obs[\"slide_name\"] = slide \n",
    "    \n",
    "    mapping = pd.read_csv(mapping_file, header=0, sep=\"\\t\")\n",
    "    fltr_mapping = mapping[ (mapping[\"name\"] == slide) & (mapping[\"folder\"] == slide_orig ) ]\n",
    "      \n",
    "    for idx, row in fltr_mapping.iterrows():\n",
    "        up_list = [\"sample\" , \"time_point\", \"mouse\", \"tissue\", \"dataset\" ]\n",
    "        in_list = [ row[\"folder\"], row[\"time_point\"], row[\"mouse\"], row[\"tissue\"], row[\"dataset\"] ]\n",
    "        adata.obs.loc[ adata.obs[\"fov\"] == str(row[\"FOV_idx\"]) , up_list ] = in_list\n",
    "        \n",
    "    return adata"
   ]
  },
  {
   "cell_type": "code",
   "execution_count": null,
   "id": "c045a1d5-fa0c-4da9-b3b2-5d7ee86587c2",
   "metadata": {},
   "outputs": [],
   "source": [
    "def split_anndata(slides_meta_file, adata, slide, slide_orig):\n",
    "    \n",
    "    conditions = pd.read_csv(slides_meta_file, header=0, sep=\"\\t\")\n",
    "    fltr_conditions = conditions[ (conditions[\"name\"] == slide) & (conditions[\"folder\"] == slide_orig ) ]\n",
    "    \n",
    "    for idx, row in fltr_conditions.iterrows():\n",
    "        tgt_tp , tgt_tis, tgt_mo = row[\"time_point\"], row[\"tissue\"], row[\"mouse\"]      \n",
    "        \n",
    "        name = \"_\".join([tgt_tp ,tgt_mo, tgt_tis])\n",
    "        tgt_file = f\"{sample_dir}{slide}/{name}_raw.hdf5\"\n",
    "        print(f\"=========================\\tWriting {name} to {tgt_file}\")\n",
    "        \n",
    "        subdata = adata[ (adata.obs[\"time_point\"] == tgt_tp) &\n",
    "            (adata.obs[\"tissue\"] == tgt_tis) &\n",
    "            (adata.obs[\"mouse\"] == tgt_mo) ]\n",
    "                        \n",
    "        print(subdata)\n",
    "        \n",
    "        # Optional - Save the annData as hdf5 for later loading\n",
    "               \n",
    "        subdata.write(filename= tgt_file)"
   ]
  },
  {
   "cell_type": "markdown",
   "id": "688f6f91-c0c8-42c9-8a50-ae203c898c21",
   "metadata": {},
   "source": [
    "## Looping across the slides - START HERE"
   ]
  },
  {
   "cell_type": "code",
   "execution_count": null,
   "id": "9fa9d6a4-8502-4fe2-8802-c2acc199fb00",
   "metadata": {},
   "outputs": [],
   "source": [
    "sample_dir = \"/mnt/share/Projects/Proj_AN1_P.chabaudi/Datasets/CosmX/\"\n",
    "mapping_f = \"FOV_mapping_corrected.tsv\"\n",
    "mapping_s = \"slide_mapping.tsv\"\n",
    "\n",
    "conditions = pd.read_csv(sample_dir + mapping_s, header=0, sep=\"\\t\")\n",
    "slide_list = conditions[\"name\"].unique()\n",
    "print(slide_list)\n",
    "iter_slides = iter(slide_list)\n",
    "pm = {}"
   ]
  },
  {
   "cell_type": "code",
   "execution_count": null,
   "id": "5b1f3231-21e3-43ae-9be3-f8c0c6b34ce0",
   "metadata": {},
   "outputs": [],
   "source": [
    "slide = next(iter_slides)\n",
    "\n",
    "folders = conditions[conditions[\"name\"] == slide][\"folder\"].unique()\n",
    "if len(folders) == 1 :\n",
    "    slide_orig = folders[0]\n",
    "else :\n",
    "    print(\"Too many or too few working directories were parsed\") \n",
    "\n",
    "print(\"Processing slide \", slide) \n",
    "\n",
    "pos_file = f\"{sample_dir}{slide_orig}/{slide_orig}_fov_positions_file.csv\"\n",
    "img_file = f\"{sample_dir}IF_images/{slide}_IF.jpg\""
   ]
  },
  {
   "cell_type": "code",
   "execution_count": null,
   "id": "854e6308-481b-4861-b250-fff99e0fe7f7",
   "metadata": {},
   "outputs": [],
   "source": [
    "## Reading slide files\n",
    "# and finding which FOVs are on which tissue\n",
    "adata = read_cosmx(sample_dir, slide_orig, slide)\n",
    "print(adata)\n",
    "\n",
    "# check positions of fovs on the slide to select appropriately which fovs correspond to which sample\n",
    "# this a partly to fix a bug of AtoMx export that reindexes and shuffles fovs numbers irrespective of the numbers\n",
    "# selected by the user\n",
    "# in red are FOVs that exist in positions file but have no counts or metadata, due to failing QC in AtoMx \n",
    "# and being discarded\n",
    "# the background image needs to be in the same coordinate system (same 0 and max for x and y) as the fov positions, i.e. not cropped, but expanded is OK\n",
    "plot_fovs_to_slide(pos_file, img_file)\n"
   ]
  },
  {
   "cell_type": "code",
   "execution_count": null,
   "id": "ef64b336-3dc7-41b7-afa3-09064c70e1b1",
   "metadata": {},
   "outputs": [],
   "source": [
    "# use picture from previous cell to generate FOV_mapping.tsv file\n",
    "annotate_fovs(sample_dir + mapping_f, adata , slide, slide_orig)\n",
    "print(adata.obs)\n",
    "\n",
    "# Subsetting dataframe by FOV\n",
    "os.makedirs(f\"{sample_dir}{slide}\", exist_ok = True)\n",
    "split_anndata(sample_dir + mapping_s, adata , slide, slide_orig)"
   ]
  }
 ],
 "metadata": {
  "kernelspec": {
   "display_name": "Python 3 (ipykernel)",
   "language": "python",
   "name": "python3"
  },
  "language_info": {
   "codemirror_mode": {
    "name": "ipython",
    "version": 3
   },
   "file_extension": ".py",
   "mimetype": "text/x-python",
   "name": "python",
   "nbconvert_exporter": "python",
   "pygments_lexer": "ipython3",
   "version": "3.10.0"
  }
 },
 "nbformat": 4,
 "nbformat_minor": 5
}
