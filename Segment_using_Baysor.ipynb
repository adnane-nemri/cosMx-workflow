{
 "cells": [
  {
   "cell_type": "code",
   "execution_count": null,
   "id": "5dc88fad-7401-4b92-bcb5-279e76f2bced",
   "metadata": {},
   "outputs": [],
   "source": [
    "# Baysor segmentation"
   ]
  },
  {
   "cell_type": "code",
   "execution_count": 1,
   "id": "5ab516fb-7d09-411d-84a5-6d4170565caa",
   "metadata": {},
   "outputs": [],
   "source": [
    "# Subset polygon and tx info for a single FOV"
   ]
  },
  {
   "cell_type": "code",
   "execution_count": null,
   "id": "0669d130-7d7c-4381-a58b-5346d87fc545",
   "metadata": {},
   "outputs": [],
   "source": [
    "csv_dir = \"/mnt/share/Projects/Proj_AN1_P.chabaudi/Datasets/CosmX/ThomasOttoMouseSlide2060324/\"\n",
    "poly_f = \"ThomasOttoMouseSlide2060324-polygons.csv\"\n",
    "tx_f = \"ThomasOttoMouseSlide2060324_tx_file.csv\"\n",
    "poly= pd.read_csv(csv_dir + poly_f)\n",
    "\n",
    "fov.to_csv(\"/mnt/share/Projects/Proj_AN1_P.chabaudi/Datasets/CosmX/bayesor/fov_238.poly.csv\", index = False)\n",
    "iter_csv = pd.read_csv(sample_dir + tx_f, iterator = True, chunksize = 1000)\n",
    "tx= pd.concat(chunk[chunk[\"fov\"].isin(fovs_to_sel)] for chunk in iter_csv)\n",
    "tx.to_csv(\"/mnt/share/Projects/Proj_AN1_P.chabaudi/Datasets/CosmX/bayesor/fov_238.tx.csv\", index = False)"
   ]
  }
 ],
 "metadata": {
  "kernelspec": {
   "display_name": "Python 3 (ipykernel)",
   "language": "python",
   "name": "python3"
  },
  "language_info": {
   "codemirror_mode": {
    "name": "ipython",
    "version": 3
   },
   "file_extension": ".py",
   "mimetype": "text/x-python",
   "name": "python",
   "nbconvert_exporter": "python",
   "pygments_lexer": "ipython3",
   "version": "3.10.0"
  }
 },
 "nbformat": 4,
 "nbformat_minor": 5
}
